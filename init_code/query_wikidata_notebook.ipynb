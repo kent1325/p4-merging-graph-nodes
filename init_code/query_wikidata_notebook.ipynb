{
 "cells": [
  {
   "cell_type": "markdown",
   "metadata": {},
   "source": [
    "# Initial load of program"
   ]
  },
  {
   "cell_type": "markdown",
   "metadata": {},
   "source": [
    "### Imports"
   ]
  },
  {
   "cell_type": "code",
   "execution_count": 2,
   "metadata": {},
   "outputs": [],
   "source": [
    "import numpy as np\n",
    "import pandas as pd\n",
    "import regex as re\n",
    "import networkx as nx\n",
    "import matplotlib.pyplot as plt\n",
    "from SPARQLWrapper import SPARQLWrapper\n",
    "import warnings\n",
    "\n",
    "warnings.filterwarnings('ignore')"
   ]
  },
  {
   "cell_type": "markdown",
   "metadata": {},
   "source": [
    "### Build graph of item"
   ]
  },
  {
   "cell_type": "code",
   "execution_count": 6,
   "metadata": {},
   "outputs": [],
   "source": [
    "def build_graph(node: str):\n",
    "    sparql = SPARQLWrapper(\"https://query.wikidata.org/sparql\")\n",
    "    sparql.setQuery(f\"\"\"\n",
    "        CONSTRUCT {{ {node} ?p ?object .\n",
    "                    ?object ?p1 ?subject1 .\n",
    "                    ?subject ?p2 {node} .\n",
    "                    ?subject2 ?p3 ?subject .\n",
    "                    ?subject3 ?p4 ?object . \n",
    "                    ?subject ?p5 ?subject4 }} \n",
    "        WHERE       {{\n",
    "                    {{ {node} ?p ?object .\n",
    "                    ?object ?p1 ?subject1 .\n",
    "                    ?subject3 ?p4 ?object .\n",
    "                    FILTER isURI(?object)\n",
    "                    FILTER isURI(?subject1)\n",
    "                    FILTER isURI(?subject3) }}\n",
    "                    UNION\n",
    "                    {{ ?subject ?p2 {node} .\n",
    "                    ?subject2 ?p3 ?subject .\n",
    "                    ?subject ?p5 ?subject4 . \n",
    "                    FILTER isURI(?subject)\n",
    "                    FILTER isURI(?subject2)\n",
    "                    FILTER isURI(?subject4) }}\n",
    "                    }}\n",
    "                \"\"\")\n",
    "    query_result = sparql.queryAndConvert()  # Produces an RDFlib Graph object \n",
    "    query_df = pd.DataFrame(query_result, columns=[\"Subject\", \"Property\", \"Value\"])\n",
    "    query_df[\"Subject\"] = query_df[\"Subject\"].str.replace(\"rdflib.term.URIRef\", \"\")\n",
    "    query_df[\"Value\"] = query_df[\"Value\"].str.replace(\"rdflib.term.URIRef\", \"\")\n",
    "    discard_properties = [\"P921\", \"P2860\"]\n",
    "    query_df = query_df[~query_df.Property.str.contains('|'.join(discard_properties))]\n",
    "\n",
    "    G = nx.Graph()\n",
    "    G = nx.from_pandas_edgelist(query_df, \"Subject\", \"Value\")\n",
    "    return G\n",
    "    \n",
    "test = build_graph(\"wd:Q171076\")"
   ]
  },
  {
   "cell_type": "markdown",
   "metadata": {},
   "source": [
    "### Determining merge candidates"
   ]
  },
  {
   "cell_type": "code",
   "execution_count": 11,
   "metadata": {},
   "outputs": [],
   "source": [
    "def alt_merge_candidates(graph: object, source_node: str):\n",
    "    neighbor_dict = {}  # Dict to store nodes and the number of common neighbors with the source-node\n",
    "    source_node_neighbors = [n for n in graph.neighbors(source_node)]  # List containing the source-node's neighbors \n",
    "    \n",
    "    for item in source_node_neighbors:\n",
    "        item_neighbors = [n for n in graph.neighbors(item)]\n",
    "        common_neighbors = sum(n in source_node_neighbors for n in item_neighbors)\n",
    "        neighbor_dict[item] = common_neighbors\n",
    "    return sorted(neighbor_dict.items(), key=lambda item: item[1], reverse=True)"
   ]
  },
  {
   "cell_type": "code",
   "execution_count": 12,
   "metadata": {},
   "outputs": [
    {
     "data": {
      "text/plain": [
       "[('http://www.wikidata.org/entity/Q65464996', 3),\n",
       " ('http://www.wikidata.org/entity/Q555853', 3),\n",
       " ('http://www.wikidata.org/entity/Q9177986', 2),\n",
       " ('http://www.wikidata.org/entity/Q65464991', 2),\n",
       " ('http://www.wikidata.org/entity/Q1191614', 2),\n",
       " ('http://www.wikidata.org/entity/Q106595715', 2),\n",
       " ('http://www.wikidata.org/entity/Q12705', 2),\n",
       " ('http://www.wikidata.org/entity/Q14515877', 2),\n",
       " ('http://www.wikidata.org/entity/Q289633', 1),\n",
       " ('http://www.wikidata.org/entity/Q1786184', 1),\n",
       " ('http://www.wikidata.org/entity/Q328249', 1),\n",
       " ('http://www.wikidata.org/entity/statement/Q171076-9249c868-4506-8700-0a7e-21f71660b4dc',\n",
       "  1),\n",
       " ('http://www.wikidata.org/entity/L30165-S1', 1),\n",
       " ('http://www.wikidata.org/entity/statement/Q171076-b0c44c29-4f31-4df0-3009-582278b2529d',\n",
       "  1),\n",
       " ('http://www.wikidata.org/entity/statement/Q171076-4e8e3f49-43cd-d67c-0a00-277696737ea9',\n",
       "  1),\n",
       " ('http://www.wikidata.org/entity/Q2488244', 1),\n",
       " ('http://www.wikidata.org/entity/statement/Q9177986-9A28ED15-0E69-46FD-95E2-ED3A5659163F',\n",
       "  1),\n",
       " ('http://www.wikidata.org/entity/L502098-S1', 1),\n",
       " ('http://www.wikidata.org/entity/statement/Q1191614-fd814a87-4757-1f54-8c1b-a8c1e1e6a1ec',\n",
       "  1),\n",
       " ('http://www.wikidata.org/entity/statement/L30165-S1-58E03A0E-688E-4DA8-B1D5-2A7B30FD340A',\n",
       "  1),\n",
       " ('http://www.wikidata.org/entity/statement/Q171076-51ee206e-48c6-883e-87f9-b0bfaf7f96ba',\n",
       "  1),\n",
       " ('http://www.wikidata.org/entity/Q17750401', 1),\n",
       " ('http://www.wikidata.org/entity/statement/Q328249-ad3884c6-490c-b5f1-5ffc-b91ca16b29b0',\n",
       "  1),\n",
       " ('http://www.wikidata.org/entity/statement/L502098-S1-EB521862-2BE1-4AE4-B2D5-EA5D2561E19A',\n",
       "  1),\n",
       " ('http://www.wikidata.org/entity/statement/Q65464991-2aa16392-4d1f-d4f6-8353-44d35b9a997a',\n",
       "  1),\n",
       " ('http://www.wikidata.org/entity/statement/L60621-S1-AAE27C16-F885-403A-A119-F07C09D4215D',\n",
       "  1),\n",
       " ('http://www.wikidata.org/entity/statement/Q171076-659DE9FF-C351-456C-B2E4-7FED7C2293CE',\n",
       "  1),\n",
       " ('http://www.wikidata.org/entity/L347181-S1', 1),\n",
       " ('http://www.wikidata.org/entity/statement/Q555853-390d84bf-4bd8-d1e3-a834-b3beefa40914',\n",
       "  1),\n",
       " ('http://www.wikidata.org/entity/statement/Q65464996-6fe6bd26-4e46-1c63-12c5-bd3fe49d2452',\n",
       "  1),\n",
       " ('http://www.wikidata.org/entity/statement/Q1786184-0ec23ec1-45aa-d750-f1a5-712114a45943',\n",
       "  1),\n",
       " ('http://www.wikidata.org/entity/statement/Q17750401-9f5f02cc-4968-2801-29bc-95d97e2f9fb5',\n",
       "  1),\n",
       " ('http://www.wikidata.org/entity/statement/L347181-S1-989035dd-496d-bc13-4ffa-091d0d80b285',\n",
       "  1),\n",
       " ('http://www.wikidata.org/entity/statement/Q289633-1c2e2f98-42bf-5a26-8dd6-660d22bea054',\n",
       "  1),\n",
       " ('http://www.wikidata.org/entity/statement/Q171076-87a87d0f-4827-8501-1e61-02658d0fedee',\n",
       "  1),\n",
       " ('http://www.wikidata.org/entity/statement/Q106595715-6c77278b-4123-edb7-3920-da66402b0455',\n",
       "  1),\n",
       " ('http://www.wikidata.org/entity/statement/Q2488244-f732663b-443f-0f07-6141-111d4d72fa51',\n",
       "  1),\n",
       " ('http://www.wikidata.org/entity/statement/Q171076-a294ac74-4d51-c2ad-d81d-3d69adcbd529',\n",
       "  1),\n",
       " ('http://www.wikidata.org/entity/L60621-S1', 1),\n",
       " ('http://www.wikidata.org/entity/Q909363', 1),\n",
       " ('http://www.wikidata.org/entity/statement/Q171076-4DA3772C-1E6A-4669-863F-3CB3BDD58FE0',\n",
       "  0),\n",
       " ('http://www.wikidata.org/entity/statement/q171076-D4EF115D-BC7C-49CE-94B6-B53314A54C6F',\n",
       "  0),\n",
       " ('http://www.wikidata.org/entity/statement/Q171076-C4860AEB-D2B6-4D65-BBB5-B305F12A5B57',\n",
       "  0),\n",
       " ('http://www.wikidata.org/entity/statement/Q171076-63FB0DED-CDB7-4FFD-AF66-C70C15F201C0',\n",
       "  0),\n",
       " ('http://www.wikidata.org/entity/statement/Q171076-E1E5BACF-326B-48EE-A9B7-C5EFA9CD6F29',\n",
       "  0),\n",
       " ('http://www.wikidata.org/entity/statement/Q171076-bb7862e5-e9b9-458a-8760-3f12e78206c6',\n",
       "  0),\n",
       " ('http://www.wikidata.org/entity/statement/Q171076-1A527CE8-02CC-45CC-BBBC-841C68B450B5',\n",
       "  0),\n",
       " ('http://www.wikidata.org/entity/statement/Q171076-C19F3C13-CCE2-4A6C-92BA-8A7FBA8BF805',\n",
       "  0),\n",
       " ('http://www.wikidata.org/entity/statement/Q62572120-f498655c-42dc-1892-a2ff-65598fab904e',\n",
       "  0),\n",
       " ('http://www.wikidata.org/entity/statement/Q37736107-3ba98fda-4a93-a8cc-89a5-71758f664abb',\n",
       "  0),\n",
       " ('http://www.wikidata.org/entity/statement/Q171076-AE2139EB-8448-4E92-A24F-9D20280C4D11',\n",
       "  0),\n",
       " ('http://www.wikidata.org/entity/statement/Q171076-D0225654-9AF8-4A29-8468-B9B43E457053',\n",
       "  0),\n",
       " ('http://www.wikidata.org/entity/statement/Q171076-03A9A210-E382-4D6A-9DD8-565272A401EE',\n",
       "  0),\n",
       " ('http://www.wikidata.org/entity/statement/Q171076-5b4e6557-7e96-4694-8540-bb23154478c1',\n",
       "  0),\n",
       " ('http://www.wikidata.org/entity/statement/Q171076-5B0E4926-9E2D-4F29-ACE9-83CE271D432E',\n",
       "  0),\n",
       " ('http://www.wikidata.org/entity/statement/Q171076-D84614F5-0990-4FB8-8CFD-E05FA064ECB7',\n",
       "  0),\n",
       " ('http://www.wikidata.org/entity/statement/Q171076-920A764B-9AA4-4B09-8DEE-2BF47640D2A4',\n",
       "  0),\n",
       " ('http://www.wikidata.org/entity/statement/Q171076-920c9afa-4e24-c2ee-8463-ab13f8e766ba',\n",
       "  0),\n",
       " ('http://www.wikidata.org/entity/statement/Q171076-A3F95831-AF42-44D2-8AED-CC87C722D25D',\n",
       "  0),\n",
       " ('http://www.wikidata.org/entity/statement/Q171076-D41355C4-7962-487D-A099-1B93B26EB053',\n",
       "  0),\n",
       " ('http://www.wikidata.org/entity/statement/Q171076-23C35EF2-D5B0-4B19-B49B-E5448F918F52',\n",
       "  0),\n",
       " ('http://www.wikidata.org/entity/statement/q171076-A58452D8-45AA-49AA-8C52-E0D0FF15D6AD',\n",
       "  0),\n",
       " ('http://www.wikidata.org/entity/statement/Q171076-EA8A8FC4-0551-4A1A-93A6-80C1F60D86F5',\n",
       "  0),\n",
       " ('http://www.wikidata.org/entity/statement/Q171076-D8E6EECB-C399-4934-9FFB-A7D47901C74F',\n",
       "  0),\n",
       " ('http://www.wikidata.org/entity/statement/Q171076-4A626AF4-D6A3-4C97-9A9C-0885CE360B25',\n",
       "  0),\n",
       " ('http://www.wikidata.org/entity/statement/Q171076-A3704EBB-031F-4EC7-9822-6F42F0F8E074',\n",
       "  0),\n",
       " ('http://www.wikidata.org/entity/statement/Q171076-f72262f4-450a-84bc-5e08-f48e64a0a32d',\n",
       "  0),\n",
       " ('http://www.wikidata.org/entity/statement/Q171076-3cfc33bc-4379-dfd4-0ad1-40f990f2a184',\n",
       "  0),\n",
       " ('http://www.wikidata.org/entity/statement/Q171076-FBC230CF-ECDD-4F62-BD47-06946D30FE71',\n",
       "  0),\n",
       " ('http://www.wikidata.org/entity/statement/Q171076-D75A11DE-3BC5-46BA-B1DA-23777FEA5FBD',\n",
       "  0)]"
      ]
     },
     "execution_count": 12,
     "metadata": {},
     "output_type": "execute_result"
    }
   ],
   "source": [
    "alt_merge_candidates(test, \"http://www.wikidata.org/entity/Q171076\")"
   ]
  },
  {
   "cell_type": "code",
   "execution_count": 14,
   "metadata": {},
   "outputs": [],
   "source": [
    "def build_graph(node: str):\n",
    "    sparql = SPARQLWrapper(\"https://query.wikidata.org/sparql\")\n",
    "    sparql.setQuery(\"\"\"\n",
    "        CONSTRUCT { wd:Q171076 wdtn:P227 ?val .\n",
    "                    wd:Q338712 wdtn:P227 ?val1}\n",
    "        WHERE     { wd:Q171076 wdtn:P227 ?val .\n",
    "                    wd:Q338712 wdtn:P227 ?val1}\n",
    "                \"\"\")\n",
    "    query_result = sparql.queryAndConvert()  # Produces an RDFlib Graph object \n",
    "    query_df = pd.DataFrame(query_result, columns=[\"Subject\", \"Property\", \"Value\"])\n",
    "    query_df[\"Subject\"] = query_df[\"Subject\"].str.replace(\"rdflib.term.URIRef\", \"\")\n",
    "    query_df[\"Value\"] = query_df[\"Value\"].str.replace(\"rdflib.term.URIRef\", \"\")\n",
    "    discard_properties = [\"P921\", \"P2860\"]\n",
    "    query_df = query_df[~query_df.Property.str.contains('|'.join(discard_properties))]\n",
    "\n",
    "    G = nx.Graph()\n",
    "    G = nx.from_pandas_edgelist(query_df, \"Subject\", \"Value\")\n",
    "    return G\n",
    "\n",
    "test2 = build_graph('ewr')"
   ]
  },
  {
   "cell_type": "code",
   "execution_count": 16,
   "metadata": {},
   "outputs": [
    {
     "data": {
      "image/png": "[encoded data removed]",
      "text/plain": [
       "<Figure size 1440x720 with 1 Axes>"
      ]
     },
     "metadata": {},
     "output_type": "display_data"
    }
   ],
   "source": [
    "plt.figure(figsize=(20,10))\n",
    "nx.draw(test2, with_labels=True)"
   ]
  }
 ],
 "metadata": {
  "interpreter": {
   "hash": "c518e2b370e4c1462b94766e975411d14984f5c6d217a1794d50cf48663ad216"
  },
  "kernelspec": {
   "display_name": "Fjerde",
   "language": "python",
   "name": "python3"
  },
  "language_info": {
   "codemirror_mode": {
    "name": "ipython",
    "version": 3
   },
   "file_extension": ".py",
   "mimetype": "text/x-python",
   "name": "python",
   "nbconvert_exporter": "python",
   "pygments_lexer": "ipython3",
   "version": "3.9.7"
  },
  "orig_nbformat": 4
 },
 "nbformat": 4,
 "nbformat_minor": 2
}
