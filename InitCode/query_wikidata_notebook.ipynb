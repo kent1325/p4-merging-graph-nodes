{
 "cells": [
  {
   "cell_type": "markdown",
   "metadata": {},
   "source": [
    "# Initial load of program"
   ]
  },
  {
   "cell_type": "markdown",
   "metadata": {},
   "source": [
    "### Imports"
   ]
  },
  {
   "cell_type": "code",
   "execution_count": null,
   "metadata": {},
   "outputs": [],
   "source": [
    "from bs4 import BeautifulSoup\n",
    "import urllib.request\n",
    "from urllib.parse import urljoin\n",
    "from pyRdfa import pyRdfa\n",
    "from rdflib import Graph\n",
    "import numpy as np\n",
    "import pandas as pd\n",
    "import regex as re\n",
    "import networkx as nx\n",
    "\n",
    "import warnings\n",
    "warnings.filterwarnings('ignore')"
   ]
  }
 ],
 "metadata": {
  "interpreter": {
   "hash": "4c97ab9667e0ef920e528b26c86a0055913909d0ade81e82c38322e0834355fe"
  },
  "kernelspec": {
   "display_name": "Python 3.9.7 64-bit ('webscraping': venv)",
   "language": "python",
   "name": "python3"
  },
  "language_info": {
   "name": "python",
   "version": "3.9.7"
  },
  "orig_nbformat": 4
 },
 "nbformat": 4,
 "nbformat_minor": 2
}
