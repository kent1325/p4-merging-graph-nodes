{
 "cells": [
  {
   "cell_type": "code",
   "execution_count": 2,
   "metadata": {},
   "outputs": [],
   "source": [
    "import pandas as pd\n",
    "import networkx as nx\n",
    "import matplotlib.pyplot as plt\n",
    "from SPARQLWrapper import SPARQLWrapper\n",
    "import warnings\n",
    "\n",
    "warnings.filterwarnings('ignore')"
   ]
  },
  {
   "cell_type": "markdown",
   "metadata": {},
   "source": [
    "### Test graph"
   ]
  },
  {
   "cell_type": "code",
   "execution_count": 24,
   "metadata": {},
   "outputs": [],
   "source": [
    "def build_graph(node: str):\n",
    "    sparql = SPARQLWrapper(\"https://query.wikidata.org/sparql\")\n",
    "    sparql.setQuery(\"\"\"\n",
    "                    CONSTRUCT {\n",
    "                    wd:Q171076 ?p ?object.\n",
    "                    ?subject3 ?p4 ?object.\n",
    "                    ?object ?p1 ?subject1.\n",
    "                    ?subject ?p2 wd:Q171076.\n",
    "                    ?subject ?p5 ?subject4.\n",
    "                    ?subject2 ?p3 ?subject.\n",
    "                    wd:Q171076 wdtn:P227 ?val.\n",
    "                    ?node wdtn:P227 ?val. }\n",
    "                    WHERE {\n",
    "                    {\n",
    "                        wd:Q171076 ?p ?object.\n",
    "                        ?subject3 ?p4 ?object.\n",
    "                        ?object ?p1 ?subject1.\n",
    "                        OPTIONAL {\n",
    "                        wd:Q171076 wdtn:P227 ?val.\n",
    "                        ?node wdtn:P227 ?val. } \n",
    "                        FILTER(ISURI(?subject3))\n",
    "                        FILTER(ISURI(?object))\n",
    "                        FILTER(ISURI(?subject1))\n",
    "                    }\n",
    "                    UNION\n",
    "                    {\n",
    "                        ?subject ?p2 wd:Q171076;\n",
    "                        ?p5 ?subject4.\n",
    "                        ?subject2 ?p3 ?subject.\n",
    "                        FILTER(ISURI(?subject2))\n",
    "                        FILTER(ISURI(?subject4))\n",
    "                    }\n",
    "                    }\n",
    "                \"\"\")\n",
    "    query_result = sparql.queryAndConvert()  # Produces an RDFlib Graph object \n",
    "    query_df = pd.DataFrame(query_result, columns=[\"Subject\", \"Property\", \"Value\"])\n",
    "    query_df[\"Subject\"] = query_df[\"Subject\"].str.replace(\"rdflib.term.URIRef\", \"\")\n",
    "    query_df[\"Value\"] = query_df[\"Value\"].str.replace(\"rdflib.term.URIRef\", \"\")\n",
    "    query_df[\"Property\"] = query_df[\"Property\"].str.replace(\"rdflib.term.URIRef\", \"\")\n",
    "    discard_properties = [\"P921\", \"P2860\"]\n",
    "    query_df = query_df[~query_df.Property.str.contains('|'.join(discard_properties))]\n",
    "\n",
    "    G = nx.MultiDiGraph()\n",
    "    G = nx.from_pandas_edgelist(query_df, \"Subject\", \"Value\", edge_attr=\"Property\")\n",
    "    return G\n",
    "\n",
    "test2 = build_graph('e')"
   ]
  },
  {
   "cell_type": "markdown",
   "metadata": {},
   "source": [
    "### Identifier heuristic"
   ]
  },
  {
   "cell_type": "code",
   "execution_count": 52,
   "metadata": {},
   "outputs": [
    {
     "data": {
      "text/plain": [
       "{'http://www.wikidata.org/prop/direct-normalized/P227': 'http://www.wikidata.org/entity/Q338712'}"
      ]
     },
     "execution_count": 52,
     "metadata": {},
     "output_type": "execute_result"
    }
   ],
   "source": [
    "def identifier(graph: object, node: str):\n",
    "    common_id = {}\n",
    "\n",
    "    for item in graph.neighbors(node):\n",
    "        property = graph[node][item][\"Property\"]\n",
    "        if property == \"http://www.wikidata.org/prop/direct-normalized/P227\": \n",
    "            for item_neighbor in graph.neighbors(item):\n",
    "                if item_neighbor == node:\n",
    "                    continue\n",
    "                else:\n",
    "                    property2 = graph[item][item_neighbor][\"Property\"]\n",
    "                    if property2 == property:\n",
    "                        common_id[property] = item_neighbor\n",
    "    return common_id\n",
    "\n",
    "identifier(test2, \"http://www.wikidata.org/entity/Q171076\")"
   ]
  }
 ],
 "metadata": {
  "interpreter": {
   "hash": "c518e2b370e4c1462b94766e975411d14984f5c6d217a1794d50cf48663ad216"
  },
  "kernelspec": {
   "display_name": "Fjerde",
   "language": "python",
   "name": "fjerde"
  },
  "language_info": {
   "codemirror_mode": {
    "name": "ipython",
    "version": 3
   },
   "file_extension": ".py",
   "mimetype": "text/x-python",
   "name": "python",
   "nbconvert_exporter": "python",
   "pygments_lexer": "ipython3",
   "version": "3.9.7"
  },
  "orig_nbformat": 4
 },
 "nbformat": 4,
 "nbformat_minor": 2
}
