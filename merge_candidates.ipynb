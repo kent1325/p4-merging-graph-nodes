{
 "cells": [
  {
   "cell_type": "code",
   "execution_count": 1,
   "metadata": {},
   "outputs": [],
   "source": [
    "import pandas as pd\n",
    "import networkx as nx\n",
    "from SPARQLWrapper import SPARQLWrapper\n",
    "import warnings\n",
    "\n",
    "warnings.filterwarnings('ignore')"
   ]
  },
  {
   "cell_type": "markdown",
   "metadata": {},
   "source": [
    "### Constants"
   ]
  },
  {
   "cell_type": "code",
   "execution_count": 17,
   "metadata": {},
   "outputs": [],
   "source": [
    "NODE = \"wd:Q171076\"\n",
    "NODE_URL = \"http://www.wikidata.org/entity/Q171076\""
   ]
  },
  {
   "cell_type": "markdown",
   "metadata": {},
   "source": [
    "# Building the graph"
   ]
  },
  {
   "cell_type": "code",
   "execution_count": 27,
   "metadata": {},
   "outputs": [],
   "source": [
    "def build_graph(node: str):\n",
    "    sparql = SPARQLWrapper(\"https://query.wikidata.org/sparql\")\n",
    "    sparql.setQuery(f\"\"\"\n",
    "                    CONSTRUCT {{ \n",
    "                    {node} ?p ?object.\n",
    "                    ?subject3 ?p4 ?object.\n",
    "                    ?object ?p1 ?subject1.\n",
    "                    ?subject ?p2 {node}.\n",
    "                    ?subject ?p5 ?subject4.\n",
    "                    ?subject2 ?p3 ?subject. \n",
    "                    {node} wdtn:P227 ?object2.\n",
    "                    ?subject5 wdtn:P227 ?object2. \n",
    "                    }} \n",
    "                    WHERE {{\n",
    "                        {{ \n",
    "                        {node} ?p ?object.\n",
    "                        ?subject3 ?p4 ?object.\n",
    "                        ?object ?p1 ?subject1.\n",
    "                        OPTIONAL {{\n",
    "                            {node} wdtn:P227 ?object2.\n",
    "                            ?subject5 wdtn:P227 ?object2.}}\n",
    "                        FILTER(isURI(?subject1))\n",
    "                        FILTER(isURI(?object2))\n",
    "                        }}\n",
    "                    UNION\n",
    "                        {{ \n",
    "                        ?subject ?p2 {node}.\n",
    "                        ?subject2 ?p3 ?subject.\n",
    "                        ?subject ?p5 ?subject4.\n",
    "                        FILTER(isURI(?subject4))\n",
    "                        }}\n",
    "                    }}\n",
    "                \"\"\")\n",
    "    query_result = sparql.queryAndConvert() # Produces a RDFlib Graph object\n",
    "\n",
    "    # Produces a dataframe based on the RDFlib graph\n",
    "    query_df = pd.DataFrame(query_result, columns=[\"Subject\", \"Property\", \"Value\"])\n",
    "    # Cleaning unwanted wrappings around our objects\n",
    "    query_df[\"Subject\"] = query_df[\"Subject\"].str.replace(\"rdflib.term.URIRef\", \"\")\n",
    "    query_df[\"Value\"] = query_df[\"Value\"].str.replace(\"rdflib.term.URIRef\", \"\")\n",
    "    query_df[\"Property\"] = query_df[\"Property\"].str.replace(\"rdflib.term.URIRef\", \"\")\n",
    "    discard_properties = [\"P921\", \"P2860\"]  # Properties to discard\n",
    "    discard_sub_obj = [\"/statement/\"]  #  Subjects and Objects to discard\n",
    "    query_df = query_df[~query_df.Property.str.contains('|'.join(discard_properties))]\n",
    "    query_df = query_df[~query_df.Subject.str.contains('|'.join(discard_sub_obj))]\n",
    "    query_df = query_df[~query_df.Value.str.contains('|'.join(discard_sub_obj))]\n",
    "\n",
    "    # Convert dataframe to a networkx graph\n",
    "    G = nx.from_pandas_edgelist(query_df, \"Subject\", \"Value\", edge_attr=\"Property\")\n",
    "    return G"
   ]
  },
  {
   "cell_type": "code",
   "execution_count": 28,
   "metadata": {},
   "outputs": [
    {
     "data": {
      "text/plain": [
       "NodeView(('http://www.wikidata.org/entity/Q36091973', 'http://www.wikidata.org/entity/Q13442814', 'http://www.wikidata.org/entity/Q38919265', 'https://dblp.org/rec/journals/see/VochozkaMS18.rdf', 'http://www.wikidata.org/entity/Q36072972', 'http://dx.doi.org/10.1099/IJSEM.0.001210', 'http://www.wikidata.org/entity/Q42379261', 'http://www.wikidata.org/entity/Q15754394', 'http://www.wikidata.org/entity/Q39020160', 'http://www.wikidata.org/entity/Q7318358', 'http://www.wikidata.org/entity/Q35987442', 'http://www.wikidata.org/entity/Q564954', 'http://www.wikidata.org/entity/Q39097675', 'http://www.wikidata.org/entity/Q56912439', 'http://www.wikidata.org/entity/Q42816956', 'http://www.wikidata.org/entity/Q1860', 'http://www.wikidata.org/entity/Q67224781', 'http://www.wikidata.org/entity/Q41974008', 'http://www.wikidata.org/entity/Q39651404', 'http://www.wikidata.org/entity/Q38394488', 'http://www.wikidata.org/entity/Q2120036', 'http://www.wikidata.org/entity/Q36264971', 'http://www.wikidata.org/entity/Q42016403', 'http://dx.doi.org/10.1128/AEM.02320-15', 'http://www.wikidata.org/entity/Q65464996', 'http://www.wikidata.org/entity/Q7189622', 'http://www.wikidata.org/entity/Q36174337', 'http://www.wikidata.org/entity/Q30420826', 'http://www.wikidata.org/entity/Q39567896', 'http://www.wikidata.org/entity/Q43027307', 'http://www.wikidata.org/entity/Q15766483', 'http://www.wikidata.org/entity/Q42009479', 'http://www.wikidata.org/entity/Q36058520', 'https://scigraph.springernature.com/pub.10.1186/s13068-016-0543-9', 'http://www.wikidata.org/entity/Q41969811', 'http://www.wikidata.org/entity/Q17509958', 'http://www.wikidata.org/entity/Q38901720', 'http://dx.doi.org/10.1007/10_2016_5', 'http://www.wikidata.org/entity/Q41738711', 'http://www.wikidata.org/entity/Q36152383', 'http://www.wikidata.org/entity/Q38925426', 'http://www.wikidata.org/entity/Q15758656', 'http://www.wikidata.org/entity/Q38905960', 'http://dx.doi.org/10.1016/J.JBIOTEC.2016.07.015', 'http://www.wikidata.org/entity/Q36216681', 'http://www.wikidata.org/entity/Q36370061', 'http://www.wikidata.org/entity/Q39549884', 'http://dx.doi.org/10.1016/J.BIORTECH.2012.08.051', 'http://dx.doi.org/10.1128/GENOMEA.00609-16', 'http://www.wikidata.org/entity/Q38423116', 'http://www.wikidata.org/entity/Q37488330', 'http://www.wikidata.org/entity/Q35985507', 'http://www.wikidata.org/entity/Q15757136', 'http://www.wikidata.org/entity/Q43015441', 'http://dx.doi.org/10.1007/S12223-012-0132-7', 'http://www.wikidata.org/entity/Q38886694', 'http://dx.doi.org/10.1007/S11356-016-7159-2', 'http://www.wikidata.org/entity/Q27268444', 'http://www.wikidata.org/entity/Q43310596', 'http://dx.doi.org/10.1016/J.ETAP.2013.11.020', 'http://www.wikidata.org/entity/Q43025646', 'http://www.wikidata.org/entity/Q15708879', 'http://www.wikidata.org/entity/Q36034731', 'http://www.wikidata.org/entity/Q55835136', 'http://www.wikidata.org/entity/Q36333183', 'http://www.wikidata.org/entity/Q954500', 'http://www.wikidata.org/entity/Q39510230', 'http://www.wikidata.org/entity/Q57038923', 'http://www.wikidata.org/entity/Q60027780', 'http://www.wikidata.org/entity/Q38770798', 'http://www.wikidata.org/entity/Q43027364', 'http://www.wikidata.org/entity/Q1488595', 'http://www.wikidata.org/entity/Q70975343', 'http://www.wikidata.org/entity/Q39833315', 'http://www.wikidata.org/entity/Q15766357', 'http://www.wikidata.org/entity/Q41934081', 'http://dx.doi.org/10.1016/J.BIORTECH.2017.01.020', 'http://www.wikidata.org/entity/Q38746489', 'http://dx.doi.org/10.1016/J.ANAEROBE.2017.03.010', 'http://www.wikidata.org/entity/Q43015545', 'http://dx.doi.org/10.1002/BIT.24557', 'http://www.wikidata.org/entity/Q38854553', 'http://www.wikidata.org/entity/Q38368697', 'http://dx.doi.org/10.1016/J.JBIOTEC.2017.08.012', 'http://www.wikidata.org/entity/Q38254433', 'http://www.wikidata.org/entity/Q37873418', 'http://www.wikidata.org/entity/Q39487611', 'http://www.wikidata.org/entity/Q38408476', 'http://www.wikidata.org/entity/Q15614164', 'http://www.wikidata.org/entity/Q39021327', 'http://www.wikidata.org/entity/Q84778025', 'http://www.wikidata.org/entity/Q38374430', 'http://www.wikidata.org/entity/Q43014768', 'http://www.wikidata.org/entity/Q52356746', 'http://dx.doi.org/10.2175/106143010X12780288628615', 'http://dx.doi.org/10.1016/J.JENVMAN.2016.06.001', 'http://www.wikidata.org/entity/Q36110436', 'http://www.wikidata.org/entity/Q43027069', 'http://dx.doi.org/10.1016/J.BIORTECH.2009.03.081', 'http://www.wikidata.org/entity/Q38052303', 'http://www.wikidata.org/entity/Q38850517', 'http://dx.doi.org/10.1111/INA.12390', 'http://www.wikidata.org/entity/Q41808037', 'http://www.wikidata.org/entity/Q36040314', 'http://www.wikidata.org/entity/Q39423123', 'http://www.wikidata.org/entity/Q82421587', 'https://scigraph.springernature.com/pub.10.1007/s11356-016-7159-2', 'http://dx.doi.org/10.1016/J.BIORTECH.2012.08.135', 'http://www.wikidata.org/entity/Q39337704', 'http://www.wikidata.org/entity/Q85408663', 'http://www.wikidata.org/entity/Q37727638', 'http://www.wikidata.org/entity/Q106595715', 'http://www.wikidata.org/entity/Q171076', 'https://natureenergy.dk/biogasanlaeg-danmark/nature-energy-vaarst', 'http://www.wikidata.org/entity/Q36079377', 'http://www.wikidata.org/entity/Q87749781', 'http://www.wikidata.org/entity/Q30420936', 'https://scigraph.springernature.com/pub.10.1007/s12223-012-0132-7', 'http://www.wikidata.org/entity/Q42775940', 'http://www.wikidata.org/entity/Q38902404', 'http://www.wikidata.org/entity/Q15763085', 'http://www.wikidata.org/entity/Q20170707', 'http://www.wikidata.org/entity/Q35', 'http://www.wikidata.org/entity/Q108459798', 'http://www.wikidata.org/entity/Q38580369', 'http://www.wikidata.org/entity/Q41980538', 'http://dx.doi.org/10.1186/S40064-015-1466-9', 'http://www.wikidata.org/entity/Q55777380', 'http://www.wikidata.org/entity/Q38012635', 'http://www.wikidata.org/entity/Q37919538', 'http://www.wikidata.org/entity/Q5186663', 'http://www.wikidata.org/entity/Q37991231', 'http://dx.doi.org/10.1002/PMIC.201400557', 'http://dx.doi.org/10.1016/J.WASMAN.2016.08.032', 'http://dx.doi.org/10.1111/JAM.13277', 'http://www.wikidata.org/entity/Q38850819', 'http://www.wikidata.org/entity/Q39610324', 'http://www.wikidata.org/entity/Q89498719', 'http://www.wikidata.org/entity/Q35999720', 'http://www.wikidata.org/entity/Q36054987', 'http://www.wikidata.org/entity/Q6294860', 'http://www.wikidata.org/entity/Q38985747', 'http://dx.doi.org/10.1007/S00253-016-7926-5', 'http://www.wikidata.org/entity/Q39739542', 'http://www.wikidata.org/entity/Q82114712', 'http://www.wikidata.org/entity/Q38823011', 'http://dx.doi.org/10.1080/10934529.2016.1221216', 'http://dx.doi.org/10.1007/S00253-012-3953-Z', 'http://www.wikidata.org/entity/Q15724489', 'http://www.wikidata.org/entity/Q35953388', 'http://dx.doi.org/10.1016/J.BIORTECH.2016.02.104', 'http://www.wikidata.org/entity/Q39364572', 'http://www.wikidata.org/entity/Q59568258', 'http://dx.doi.org/10.1007/S11356-016-7535-Y', 'http://www.wikidata.org/entity/Q38886915', 'http://www.wikidata.org/entity/Q15757726', 'http://www.wikidata.org/entity/Q38447885', 'http://www.wikidata.org/entity/Q15756445', 'http://www.wikidata.org/entity/Q35973052', 'http://dx.doi.org/10.1016/J.BIORTECH.2016.03.045', 'http://www.wikidata.org/entity/Q42319894', 'http://www.wikidata.org/entity/Q38965896', 'http://www.wikidata.org/entity/Q57305203', 'http://www.wikidata.org/entity/Q38828043', 'http://www.wikidata.org/entity/Q111535165', 'http://dx.doi.org/10.1007/S11948-017-9881-7', 'https://scigraph.springernature.com/pub.10.1007/s12010-016-2279-1', 'http://www.wikidata.org/entity/Q36625471', 'http://www.wikidata.org/entity/Q38442826', 'http://www.wikidata.org/entity/Q4915339', 'http://www.wikidata.org/entity/Q39019478', 'http://dx.doi.org/10.1016/J.BIORTECH.2014.06.067', 'http://dx.doi.org/10.1186/S13068-016-0543-9', 'http://www.wikidata.org/entity/Q56573665', 'http://www.wikidata.org/entity/Q38420642', 'http://www.wikidata.org/entity/Q15763931', 'http://www.wikidata.org/entity/Q43027172', 'http://www.wikidata.org/entity/Q42956585', 'http://dx.doi.org/10.1155/2015/494182', 'http://www.wikidata.org/entity/Q51037707', 'http://www.wikidata.org/entity/Q43004796', 'http://www.wikidata.org/entity/Q40267124', 'http://www.wikidata.org/entity/Q49893845', 'http://dx.doi.org/10.1016/J.BIORTECH.2016.07.029', 'http://www.wikidata.org/entity/Q38172250', 'http://www.wikidata.org/entity/Q43026808', 'http://www.wikidata.org/entity/Q36324578', 'http://www.wikidata.org/entity/Q43357237', 'http://www.wikidata.org/entity/Q42038509', 'http://www.wikidata.org/entity/Q1024905', 'http://www.wikidata.org/entity/Q41804134', 'http://www.wikidata.org/entity/Q96177215', 'http://www.wikidata.org/entity/Q38826786', 'http://www.wikidata.org/entity/Q96249525', 'http://www.wikidata.org/entity/Q57045866', 'http://www.wikidata.org/entity/Q1348305', 'http://www.wikidata.org/entity/Q37956484', 'http://dx.doi.org/10.1007/10_2011_126', 'http://www.wikidata.org/entity/Q61167443', 'http://www.wikidata.org/entity/Q36286593', 'http://www.wikidata.org/entity/Q89054986', 'http://www.wikidata.org/entity/Q557685', 'http://www.wikidata.org/entity/Q37527327', 'http://dx.doi.org/10.1016/J.BIORTECH.2009.05.070', 'http://dx.doi.org/10.1021/JF0525380', 'http://dx.doi.org/10.1155/2014/469378', 'http://www.wikidata.org/entity/Q38699566', 'http://dx.doi.org/10.1016/J.TIBTECH.2015.12.010', 'http://dx.doi.org/10.1016/J.ANAEROBE.2016.11.007', 'http://www.wikidata.org/entity/Q42692680', 'http://www.wikidata.org/entity/Q36236678', 'http://www.wikidata.org/entity/Q38947439', 'http://www.wikidata.org/entity/Q57195886', 'http://dx.doi.org/10.1080/09593330.2012.733416', 'http://www.wikidata.org/entity/Q15762225', 'http://www.wikidata.org/entity/Q80890821', 'http://www.wikidata.org/entity/Q39240947', 'http://www.wikidata.org/entity/Q87339660', 'http://www.wikidata.org/entity/Q11767897', 'https://scigraph.springernature.com/pub.10.1007/s00253-012-3953-z', 'http://www.wikidata.org/entity/Q88122877', 'http://www.wikidata.org/entity/Q55487282', 'http://www.wikidata.org/entity/Q43025609', 'http://dx.doi.org/10.3389/FMICB.2016.01529', 'http://dx.doi.org/10.1186/S13068-017-0921-Y', 'http://www.wikidata.org/entity/Q37602562', 'http://www.wikidata.org/entity/Q87825531', 'http://www.wikidata.org/entity/Q57116897', 'http://www.wikidata.org/entity/Q42674686', 'https://scigraph.springernature.com/pub.10.1007/s11948-017-9881-7', 'http://www.wikidata.org/entity/Q40415068', 'http://www.wikidata.org/entity/Q28913763', 'http://dx.doi.org/10.1080/09593330.2010.484075', 'http://www.wikidata.org/entity/Q39604269', 'http://dx.doi.org/10.1186/S13068-015-0243-X', 'http://www.wikidata.org/entity/Q80677773', 'http://www.wikidata.org/entity/Q43238004', 'http://dx.doi.org/10.1016/J.WASMAN.2015.12.009', 'http://www.wikidata.org/entity/Q39019005', 'http://dx.doi.org/10.1016/J.CHEMOSPHERE.2017.01.133', 'http://dx.doi.org/10.1007/S00253-012-4152-7', 'http://www.wikidata.org/entity/Q51380004', 'http://www.wikidata.org/entity/Q38846784', 'http://dx.doi.org/10.1016/J.WATRES.2017.03.047', 'http://www.wikidata.org/entity/Q37683507', 'http://dx.doi.org/10.1039/B817050A', 'http://www.wikidata.org/entity/Q51551681', 'http://www.wikidata.org/entity/Q27723481', 'http://www.wikidata.org/entity/Q59702447', 'http://dx.doi.org/10.1016/J.JBIOTEC.2016.06.014', 'http://www.wikidata.org/entity/Q43025499', 'http://www.wikidata.org/entity/Q13553694', 'http://www.wikidata.org/entity/Q56816769', 'http://www.wikidata.org/entity/Q36078548', 'http://www.wikidata.org/entity/Q61112745', 'http://www.wikidata.org/entity/Q15753075', 'http://www.wikidata.org/entity/Q38913812', 'http://www.wikidata.org/entity/Q26853912', 'http://www.wikidata.org/entity/Q96163147', 'http://dx.doi.org/10.1016/J.WASMAN.2016.02.022', 'http://dx.doi.org/10.1016/J.WASMAN.2017.04.024', 'http://www.wikidata.org/entity/Q30430205', 'http://www.wikidata.org/entity/Q39052008', 'http://www.wikidata.org/entity/Q61147799', 'http://dx.doi.org/10.3791/3978', 'http://www.wikidata.org/entity/Q15753885', 'http://www.wikidata.org/entity/Q41887423', 'http://www.wikidata.org/entity/Q38870569', 'http://dx.doi.org/10.1016/J.WASMAN.2016.06.003', 'http://www.wikidata.org/entity/Q5381142', 'http://www.wikidata.org/entity/Q36210580', 'http://dx.doi.org/10.1155/2012/636298', 'http://www.wikidata.org/entity/Q107228294', 'http://www.wikidata.org/entity/Q38795390', 'http://www.wikidata.org/entity/Q57361589', 'http://www.wikidata.org/entity/Q61447788', 'http://www.wikidata.org/entity/Q36184021', 'http://dx.doi.org/10.3390/IJMS160920685', 'http://www.wikidata.org/entity/Q55979565', 'http://dx.doi.org/10.1016/J.BIORTECH.2010.06.009', 'http://www.wikidata.org/entity/Q44837640', 'http://www.wikidata.org/entity/Q38836375', 'http://www.wikidata.org/entity/Q87662826', 'http://www.wikidata.org/entity/Q55979564', 'http://www.wikidata.org/entity/Q39849699', 'http://dx.doi.org/10.1016/J.JBIOTEC.2010.07.030', 'http://www.wikidata.org/entity/Q78563522', 'http://www.wikidata.org/entity/Q21514278', 'http://dx.doi.org/10.1007/S00253-009-2246-7', 'http://www.wikidata.org/entity/Q43310469', 'http://www.wikidata.org/entity/Q80193238', 'http://www.wikidata.org/entity/Q96101365', 'http://dx.doi.org/10.3109/07388551.2011.595384', 'http://dx.doi.org/10.1016/J.COPBIO.2010.03.008', 'http://www.wikidata.org/entity/Q9171856', 'http://www.wikidata.org/entity/Q86368608', 'http://www.wikidata.org/entity/Q3153277', 'http://dx.doi.org/10.1016/J.WATRES.2008.09.041', 'http://dx.doi.org/10.1016/J.SCITOTENV.2016.03.236', 'http://www.wikidata.org/entity/Q47007182', 'http://www.wikidata.org/entity/Q73593637', 'http://www.wikidata.org/entity/Q41191087', 'http://www.wikidata.org/entity/Q39026345', 'http://www.wikidata.org/entity/Q87768499', 'http://www.wikidata.org/entity/Q80611947', 'http://www.wikidata.org/entity/Q89901200', 'http://www.wikidata.org/entity/Q689027', 'http://www.wikidata.org/entity/Q80117879', 'http://www.wikidata.org/entity/Q43310461', 'http://www.wikidata.org/entity/Q61475012', 'http://www.wikidata.org/entity/Q21337487', 'http://www.wikidata.org/entity/Q41704660', 'http://www.wikidata.org/entity/Q43108921', 'http://www.wikidata.org/entity/Q39713296', 'http://dx.doi.org/10.1016/J.WASMAN.2016.05.020', 'http://www.wikidata.org/entity/Q50867179', 'http://dx.doi.org/10.2166/WST.2013.005', 'http://dx.doi.org/10.1371/JOURNAL.PONE.0171001', 'http://www.wikidata.org/entity/Q15749500', 'http://dx.doi.org/10.2166/WST.2010.980', 'http://www.wikidata.org/entity/Q13028602', 'http://www.wikidata.org/entity/Q106595603', 'https://d-nb.info/gnd/4006798-1', 'http://dx.doi.org/10.1128/GENOMEA.01158-13', 'http://www.wikidata.org/entity/Q57548715', 'http://dx.doi.org/10.1016/J.BIORTECH.2014.08.114', 'http://dx.doi.org/10.1002/BIT.21227', 'http://www.wikidata.org/entity/Q80107348', 'http://www.wikidata.org/entity/Q57417276', 'http://www.wikidata.org/entity/Q39242363', 'http://dx.doi.org/10.1016/J.BIORTECH.2016.09.065', 'http://dx.doi.org/10.1016/J.BIORTECH.2016.08.111', 'http://www.wikidata.org/entity/Q43274817', 'http://www.wikidata.org/entity/Q256', 'http://dx.doi.org/10.1016/J.WASMAN.2017.03.035', 'http://dx.doi.org/10.4014/JMB.1605.05083', 'http://www.wikidata.org/entity/Q23808426', 'http://www.wikidata.org/entity/Q15755166', 'http://www.wikidata.org/entity/Q4781593', 'http://dx.doi.org/10.1016/J.WASMAN.2017.04.034', 'http://www.wikidata.org/entity/Q61740890', 'https://scigraph.springernature.com/pub.10.1007/s00253-016-7926-5', 'http://dx.doi.org/10.1016/J.BIORTECH.2014.09.150', 'http://www.wikidata.org/entity/Q57070873', 'http://www.wikidata.org/entity/Q47007106', 'http://dx.doi.org/10.1016/J.BIORTECH.2011.04.063', 'http://www.wikidata.org/entity/Q56948964', 'http://www.wikidata.org/entity/Q48141150', 'http://www.wikidata.org/entity/Q49767946', 'http://dx.doi.org/10.1080/09593330.2013.813559', 'http://dx.doi.org/10.3390/BIOENGINEERING2010035', 'http://dx.doi.org/10.1016/J.WASMAN.2012.01.015', 'http://www.wikidata.org/entity/Q43026792', 'https://scigraph.springernature.com/pub.10.1007/s12010-009-8624-x', 'http://www.wikidata.org/entity/Q64214531', 'http://www.wikidata.org/entity/Q39435662', 'http://www.wikidata.org/entity/Q27724997', 'http://www.wikidata.org/entity/Q15756992', 'http://www.wikidata.org/entity/Q15756118', 'http://www.wikidata.org/entity/Q67603683', 'http://www.wikidata.org/entity/Q39665774', 'http://dx.doi.org/10.2166/WST.2003.0127', 'http://www.wikidata.org/entity/Q87686124', 'http://dx.doi.org/10.1128/GENOMEA.00568-16', 'http://www.wikidata.org/entity/Q47902040', 'http://dx.doi.org/10.1016/J.BIORTECH.2017.01.071', 'http://dx.doi.org/10.1371/JOURNAL.PONE.0154232', 'http://dx.doi.org/10.1007/BF02920446', 'http://www.wikidata.org/entity/Q38123504', 'http://www.wikidata.org/entity/Q82461028', 'http://dx.doi.org/10.1016/J.BIORTECH.2016.11.083', 'http://www.wikidata.org/entity/Q90702354', 'http://dx.doi.org/10.1016/J.BIORTECH.2016.05.081', 'http://www.wikidata.org/entity/Q52422599', 'http://dx.doi.org/10.1007/978-3-319-21993-6_2', 'http://www.wikidata.org/entity/Q58371066', 'http://dx.doi.org/10.1016/J.BIORTECH.2017.05.035', 'http://www.wikidata.org/entity/Q59661364', 'http://www.wikidata.org/entity/Q67602925', 'http://www.wikidata.org/entity/Q83973940', 'http://www.wikidata.org/entity/Q59510209', 'http://dx.doi.org/10.1016/J.BIORTECH.2017.03.051', 'https://scigraph.springernature.com/pub.10.1007/s00253-012-4152-7', 'http://dx.doi.org/10.1016/J.BIORTECH.2016.07.025', 'http://www.wikidata.org/entity/Q58388557', 'http://dx.doi.org/10.1016/J.BIORTECH.2016.07.058', 'http://www.wikidata.org/entity/Q749724', 'http://www.wikidata.org/entity/Q38580378', 'http://dx.doi.org/10.1007/978-3-319-21993-6_5', 'http://www.wikidata.org/entity/Q5376852', 'http://www.wikidata.org/entity/Q63987347', 'http://g.co/kg/g/11bc6bkt07', 'https://tr.wikisource.org/wiki/Biyogaz_%C3%9Cretiminde_Kullan%C4%B1labilen_Materyaller_ve_Biyogaz%C4%B1n_Kullan%C4%B1m_Alanlar%C4%B1', 'http://www.wikidata.org/entity/Q57898390', 'http://www.wikidata.org/entity/Q15750698', 'http://dx.doi.org/10.1128/AEM.02407-10', 'http://dx.doi.org/10.1016/J.WASMAN.2017.04.018', 'http://www.wikidata.org/entity/Q61051673', 'http://www.wikidata.org/entity/Q41721350', 'http://www.wikidata.org/entity/Q46653021', 'http://dx.doi.org/10.1016/J.BIORTECH.2017.01.055', 'http://www.wikidata.org/entity/Q42189080', 'http://www.wikidata.org/entity/Q82310534', 'http://dx.doi.org/10.1016/J.BIORTECH.2008.08.024', 'http://dx.doi.org/10.1016/J.JENVMAN.2016.03.022', 'http://www.wikidata.org/entity/Q83329201', 'http://dx.doi.org/10.1016/J.BIORTECH.2016.12.045', 'http://www.wikidata.org/entity/Q58119649', 'http://www.wikidata.org/entity/Q59564011', 'http://dx.doi.org/10.2166/WST.2008.514', 'http://www.wikidata.org/entity/Q30420707', 'http://www.wikidata.org/entity/Q83364080', 'http://dx.doi.org/10.1080/09593330.2013.810294', 'https://scigraph.springernature.com/pub.10.1186/s13068-017-0921-y', 'http://www.wikidata.org/entity/Q1024883', 'http://www.wikidata.org/entity/Q58881574', 'http://dx.doi.org/10.1186/S13068-015-0339-3', 'http://www.wikidata.org/entity/Q87709911', 'http://www.wikidata.org/entity/Q15756877', 'http://dx.doi.org/10.1007/S12010-016-2279-1', 'https://scigraph.springernature.com/pub.10.1007/s12010-017-2441-4', 'http://www.wikidata.org/entity/Q47366300', 'http://www.wikidata.org/entity/Q2962268', 'http://www.wikidata.org/entity/Q83179302', 'http://dx.doi.org/10.1016/J.BIORTECH.2009.04.046', 'http://www.wikidata.org/entity/Q3511931', 'http://www.wikidata.org/entity/Q27727186', 'http://www.wikidata.org/entity/Q108459836', 'http://www.wikidata.org/entity/Q57401570', 'http://www.wikidata.org/entity/Q2451465', 'http://www.wikidata.org/entity/Q15759690', 'http://www.wikidata.org/entity/Q108531509', 'http://dx.doi.org/10.1007/S12010-017-2441-4', 'http://dx.doi.org/10.1080/09593330.2015.1007089', 'http://dx.doi.org/10.1016/J.BIORTECH.2016.06.031', 'http://dx.doi.org/10.1007/S10661-014-3727-4', 'http://dx.doi.org/10.1016/J.BIORTECH.2016.05.100', 'http://www.wikidata.org/entity/Q56377449', 'https://scigraph.springernature.com/pub.10.1186/s40201-015-0169-z', 'http://www.wikidata.org/entity/Q56557122', 'http://dx.doi.org/10.1007/S12010-009-8624-X', 'http://dx.doi.org/10.1080/09593330.2013.819022', 'http://www.wikidata.org/entity/Q87700004', 'https://scigraph.springernature.com/pub.10.1186/s40064-015-1466-9', 'http://www.wikidata.org/entity/Q45503303', 'http://www.wikidata.org/entity/Q24055190', 'http://dx.doi.org/10.1111/J.1574-6941.2000.TB00687.X', 'https://scigraph.springernature.com/pub.10.1007/s00253-009-2246-7', 'https://scigraph.springernature.com/pub.10.1007/s10661-014-3727-4', 'http://www.wikidata.org/entity/Q39682755', 'http://www.wikidata.org/entity/Q57834387', 'http://dx.doi.org/10.1016/J.WASMAN.2016.11.042', 'http://www.wikidata.org/entity/Q85911483', 'http://www.wikidata.org/entity/Q42326895', 'http://www.yso.fi/onto/yso/p20908', 'http://www.wikidata.org/entity/Q83396047', 'http://dx.doi.org/10.1016/J.SCITOTENV.2016.07.220', 'http://www.wikidata.org/entity/Q83951099', 'http://www.wikidata.org/entity/Q87822961', 'http://www.wikidata.org/entity/Q56948491', 'http://dx.doi.org/10.1007/S00253-009-2093-6', 'http://www.wikidata.org/entity/Q47007110', 'http://dx.doi.org/10.3390/EN11071797', 'http://www.wikidata.org/entity/Q45954658', 'http://www.wikidata.org/entity/Q15757130', 'https://scigraph.springernature.com/pub.10.1007/s11356-016-7535-y', 'http://www.wikidata.org/entity/Q56854256', 'http://www.wikidata.org/entity/Q51037714', 'http://www.wikidata.org/entity/Q41319278', 'http://www.wikidata.org/entity/Q59194373', 'http://www.wikidata.org/entity/Q88965726', 'http://www.wikidata.org/entity/Q59857114', 'https://scigraph.springernature.com/pub.10.1007/s00253-009-2093-6', 'http://dx.doi.org/10.1016/J.JENVMAN.2012.10.049', 'http://dx.doi.org/10.1016/J.BIORTECH.2016.11.124', 'http://dx.doi.org/10.1016/J.JENVMAN.2016.10.030', 'http://dx.doi.org/10.1021/ES200273J', 'http://www.wikidata.org/entity/Q51312278', 'http://dx.doi.org/10.1016/J.BIORTECH.2014.09.052', 'http://www.wikidata.org/entity/Q87438916', 'http://dx.doi.org/10.1155/2016/7263974', 'http://dx.doi.org/10.1021/ES3024447', 'https://scigraph.springernature.com/pub.10.1007/bf02920446', 'http://www.wikidata.org/entity/Q65464991', 'http://www.wikidata.org/entity/Q57912693', 'http://commons.wikimedia.org/wiki/Special:FilePath/2013-05-03%20Fotoflug%20Leer%20Papenburg%20DSCF6946.jpg', 'http://dx.doi.org/10.1089/EES.2014.0560', 'http://dx.doi.org/10.2166/WST.2017.069', 'https://scigraph.springernature.com/pub.10.1186/s13068-015-0243-x', 'https://scigraph.springernature.com/pub.10.1186/s13068-015-0339-3', 'http://www.wikidata.org/entity/Q57021609', 'http://dx.doi.org/10.1371/JOURNAL.PONE.0153139', 'http://www.wikidata.org/entity/Q86277905', 'http://dx.doi.org/10.1016/J.JBIOTEC.2012.01.020', 'http://www.wikidata.org/entity/Q56643718', 'http://www.wikidata.org/entity/Q66871520', 'http://dx.doi.org/10.1186/S40201-015-0169-Z', 'http://www.wikidata.org/entity/Q58335397'))"
      ]
     },
     "execution_count": 28,
     "metadata": {},
     "output_type": "execute_result"
    }
   ],
   "source": [
    "q171076_graph = build_graph(NODE)\n",
    "q171076_graph.nodes()"
   ]
  },
  {
   "cell_type": "markdown",
   "metadata": {},
   "source": [
    "# Identifier heuristic"
   ]
  },
  {
   "cell_type": "code",
   "execution_count": 20,
   "metadata": {},
   "outputs": [],
   "source": [
    "def identifier(graph: object, node: str):\n",
    "    common_id = {}\n",
    "\n",
    "    for item in graph.neighbors(node):\n",
    "        property = graph[node][item][\"Property\"]\n",
    "        if property == \"http://www.wikidata.org/prop/direct-normalized/P227\": \n",
    "            for item_neighbor in graph.neighbors(item):\n",
    "                if item_neighbor == node:\n",
    "                    continue\n",
    "                else:\n",
    "                    property2 = graph[item][item_neighbor][\"Property\"]\n",
    "                    if property2 == property:\n",
    "                        common_id[property] = item_neighbor\n",
    "    return common_id"
   ]
  },
  {
   "cell_type": "code",
   "execution_count": 21,
   "metadata": {},
   "outputs": [
    {
     "ename": "NetworkXError",
     "evalue": "The node http://www.wikidata.org/entity/Q171076 is not in the graph.",
     "output_type": "error",
     "traceback": [
      "\u001b[0;31m---------------------------------------------------------------------------\u001b[0m",
      "\u001b[0;31mKeyError\u001b[0m                                  Traceback (most recent call last)",
      "File \u001b[0;32m~/Environments/p4/lib/python3.10/site-packages/networkx/classes/graph.py:1253\u001b[0m, in \u001b[0;36mGraph.neighbors\u001b[0;34m(self, n)\u001b[0m\n\u001b[1;32m   <a href='file:///home/vugs/Environments/p4/lib/python3.10/site-packages/networkx/classes/graph.py?line=1251'>1252</a>\u001b[0m \u001b[39mtry\u001b[39;00m:\n\u001b[0;32m-> <a href='file:///home/vugs/Environments/p4/lib/python3.10/site-packages/networkx/classes/graph.py?line=1252'>1253</a>\u001b[0m     \u001b[39mreturn\u001b[39;00m \u001b[39miter\u001b[39m(\u001b[39mself\u001b[39;49m\u001b[39m.\u001b[39;49m_adj[n])\n\u001b[1;32m   <a href='file:///home/vugs/Environments/p4/lib/python3.10/site-packages/networkx/classes/graph.py?line=1253'>1254</a>\u001b[0m \u001b[39mexcept\u001b[39;00m \u001b[39mKeyError\u001b[39;00m \u001b[39mas\u001b[39;00m err:\n",
      "\u001b[0;31mKeyError\u001b[0m: 'http://www.wikidata.org/entity/Q171076'",
      "\nThe above exception was the direct cause of the following exception:\n",
      "\u001b[0;31mNetworkXError\u001b[0m                             Traceback (most recent call last)",
      "\u001b[1;32m/home/vugs/Codes/AAU_Projects/p4-merging-graph-nodes/merge_candidates.ipynb Cell 9'\u001b[0m in \u001b[0;36m<cell line: 1>\u001b[0;34m()\u001b[0m\n\u001b[0;32m----> <a href='vscode-notebook-cell:/home/vugs/Codes/AAU_Projects/p4-merging-graph-nodes/merge_candidates.ipynb#ch0000009?line=0'>1</a>\u001b[0m identifier(q171076_graph, NODE_URL)\n",
      "\u001b[1;32m/home/vugs/Codes/AAU_Projects/p4-merging-graph-nodes/merge_candidates.ipynb Cell 8'\u001b[0m in \u001b[0;36midentifier\u001b[0;34m(graph, node)\u001b[0m\n\u001b[1;32m      <a href='vscode-notebook-cell:/home/vugs/Codes/AAU_Projects/p4-merging-graph-nodes/merge_candidates.ipynb#ch0000003?line=0'>1</a>\u001b[0m \u001b[39mdef\u001b[39;00m \u001b[39midentifier\u001b[39m(graph: \u001b[39mobject\u001b[39m, node: \u001b[39mstr\u001b[39m):\n\u001b[1;32m      <a href='vscode-notebook-cell:/home/vugs/Codes/AAU_Projects/p4-merging-graph-nodes/merge_candidates.ipynb#ch0000003?line=1'>2</a>\u001b[0m     common_id \u001b[39m=\u001b[39m {}\n\u001b[0;32m----> <a href='vscode-notebook-cell:/home/vugs/Codes/AAU_Projects/p4-merging-graph-nodes/merge_candidates.ipynb#ch0000003?line=3'>4</a>\u001b[0m     \u001b[39mfor\u001b[39;00m item \u001b[39min\u001b[39;00m graph\u001b[39m.\u001b[39;49mneighbors(node):\n\u001b[1;32m      <a href='vscode-notebook-cell:/home/vugs/Codes/AAU_Projects/p4-merging-graph-nodes/merge_candidates.ipynb#ch0000003?line=4'>5</a>\u001b[0m         \u001b[39mproperty\u001b[39m \u001b[39m=\u001b[39m graph[node][item][\u001b[39m\"\u001b[39m\u001b[39mProperty\u001b[39m\u001b[39m\"\u001b[39m]\n\u001b[1;32m      <a href='vscode-notebook-cell:/home/vugs/Codes/AAU_Projects/p4-merging-graph-nodes/merge_candidates.ipynb#ch0000003?line=5'>6</a>\u001b[0m         \u001b[39mif\u001b[39;00m \u001b[39mproperty\u001b[39m \u001b[39m==\u001b[39m \u001b[39m\"\u001b[39m\u001b[39mhttp://www.wikidata.org/prop/direct-normalized/P227\u001b[39m\u001b[39m\"\u001b[39m: \n",
      "File \u001b[0;32m~/Environments/p4/lib/python3.10/site-packages/networkx/classes/graph.py:1255\u001b[0m, in \u001b[0;36mGraph.neighbors\u001b[0;34m(self, n)\u001b[0m\n\u001b[1;32m   <a href='file:///home/vugs/Environments/p4/lib/python3.10/site-packages/networkx/classes/graph.py?line=1252'>1253</a>\u001b[0m     \u001b[39mreturn\u001b[39;00m \u001b[39miter\u001b[39m(\u001b[39mself\u001b[39m\u001b[39m.\u001b[39m_adj[n])\n\u001b[1;32m   <a href='file:///home/vugs/Environments/p4/lib/python3.10/site-packages/networkx/classes/graph.py?line=1253'>1254</a>\u001b[0m \u001b[39mexcept\u001b[39;00m \u001b[39mKeyError\u001b[39;00m \u001b[39mas\u001b[39;00m err:\n\u001b[0;32m-> <a href='file:///home/vugs/Environments/p4/lib/python3.10/site-packages/networkx/classes/graph.py?line=1254'>1255</a>\u001b[0m     \u001b[39mraise\u001b[39;00m NetworkXError(\u001b[39mf\u001b[39m\u001b[39m\"\u001b[39m\u001b[39mThe node \u001b[39m\u001b[39m{\u001b[39;00mn\u001b[39m}\u001b[39;00m\u001b[39m is not in the graph.\u001b[39m\u001b[39m\"\u001b[39m) \u001b[39mfrom\u001b[39;00m \u001b[39merr\u001b[39;00m\n",
      "\u001b[0;31mNetworkXError\u001b[0m: The node http://www.wikidata.org/entity/Q171076 is not in the graph."
     ]
    }
   ],
   "source": [
    "identifier(q171076_graph, NODE_URL)"
   ]
  },
  {
   "cell_type": "markdown",
   "metadata": {},
   "source": [
    "# Neighborhood heuristic"
   ]
  },
  {
   "cell_type": "code",
   "execution_count": null,
   "metadata": {},
   "outputs": [],
   "source": [
    "def common_neighbors(graph: object, node: str):\n",
    "    node_dict = {}\n",
    "\n",
    "    for item in graph.neighbors(node):\n",
    "        for neighbor in graph.neighbors(item):\n",
    "            if neighbor == node or neighbor == 'http://wikiba.se/ontology#BestRank' or neighbor == 'http://wikiba.se/ontology#NormalRank':\n",
    "                continue\n",
    "            common_neighbors = sum(n in graph.neighbors(neighbor) for n in graph.neighbors(node))\n",
    "            node_dict[neighbor] = common_neighbors\n",
    "    return sorted(node_dict.items(), key=lambda item: item[1], reverse=True)        "
   ]
  },
  {
   "cell_type": "code",
   "execution_count": null,
   "metadata": {},
   "outputs": [],
   "source": [
    "common_neighbors(q171076_graph, NODE_URL)    "
   ]
  }
 ],
 "metadata": {
  "interpreter": {
   "hash": "c85a1de1591ac7b8c945cae4b37db2e28368261b1df658ddd148bb1fb80f6b44"
  },
  "kernelspec": {
   "display_name": "Python 3.10.4 ('p4')",
   "language": "python",
   "name": "python3"
  },
  "language_info": {
   "codemirror_mode": {
    "name": "ipython",
    "version": 3
   },
   "file_extension": ".py",
   "mimetype": "text/x-python",
   "name": "python",
   "nbconvert_exporter": "python",
   "pygments_lexer": "ipython3",
   "version": "3.10.4"
  },
  "orig_nbformat": 4
 },
 "nbformat": 4,
 "nbformat_minor": 2
}
